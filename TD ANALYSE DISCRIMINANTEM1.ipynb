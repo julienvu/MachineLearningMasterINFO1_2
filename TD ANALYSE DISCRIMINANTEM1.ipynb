{
 "cells": [
  {
   "cell_type": "code",
   "execution_count": 2,
   "metadata": {},
   "outputs": [
    {
     "data": {
      "text/plain": [
       "'Td analyse discriminante linéaire '"
      ]
     },
     "execution_count": 2,
     "metadata": {},
     "output_type": "execute_result"
    }
   ],
   "source": [
    "\"Td analyse discriminante linéaire \""
   ]
  },
  {
   "cell_type": "code",
   "execution_count": 3,
   "metadata": {},
   "outputs": [
    {
     "data": {
      "text/plain": [
       "'Exercice 1'"
      ]
     },
     "execution_count": 3,
     "metadata": {},
     "output_type": "execute_result"
    }
   ],
   "source": [
    "\"Exercice 1\""
   ]
  },
  {
   "cell_type": "code",
   "execution_count": 4,
   "metadata": {},
   "outputs": [],
   "source": [
    "%matplotlib inline\n",
    "import matplotlib.pyplot as plt\n",
    " "
   ]
  },
  {
   "cell_type": "code",
   "execution_count": 5,
   "metadata": {},
   "outputs": [
    {
     "name": "stdout",
     "output_type": "stream",
     "text": [
      "[30 25 35 30 25 20 30]\n",
      "[65 80 60 55 50 60 40]\n"
     ]
    },
    {
     "data": {
      "image/png": "[encoded data removed]",
      "text/plain": [
       "<Figure size 432x288 with 1 Axes>"
      ]
     },
     "metadata": {
      "needs_background": "light"
     },
     "output_type": "display_data"
    }
   ],
   "source": [
    "\"question 1 : nuage de points\"\n",
    "import numpy as np\n",
    "Courbure = np.array([30,25,35,30,25,20,30])\n",
    "Diametre=np.array([65,80,60,55,50,60,40])\n",
    "print(Courbure)\n",
    "print(Diametre)\n",
    "plt.scatter(Courbure.T,Diametre.T)\n",
    "plt.show()"
   ]
  },
  {
   "cell_type": "code",
   "execution_count": 18,
   "metadata": {},
   "outputs": [
    {
     "name": "stdout",
     "output_type": "stream",
     "text": [
      "sigma0=  [[  50 -100]\n",
      " [-100  200]]\n",
      "sigma1=   [[  50 -100]\n",
      " [-100  350]]\n",
      "sigma = [[  50.         -100.        ]\n",
      " [-100.          285.71428571]]\n",
      "sigma^(-1) = [[0.06666667 0.02333333]\n",
      " [0.02333333 0.01166667]]\n"
     ]
    }
   ],
   "source": [
    "import numpy.linalg as la\n",
    "\"question 2 : barycentre par classe\"\n",
    "\"voir feuille\"\n",
    "\"pi0=1/3*(25+20+30,50+60+40)=(25,50)\"\n",
    "\"pi1=1/4*(25+30+35+30,65+80+60+55)=(30,65)\"\n",
    "sig0=np.array([[25-25,20-25,30-25],[50-50,60-50,40-50]])\n",
    "s=np.array([[25-25,20-25,30-25],[50-50,60-50,40-50]]).T\n",
    "sigma0=np.dot(sig0,s)\n",
    "sigma1=np.array([[30-30,25-30,35-30,30-30],[65-65,80-65,60-65,55-65]])\n",
    "s1=np.array([[30-30,25-30,35-30,30-30],[65-65,80-65,60-65,55-65]]).T\n",
    "sigma1=np.dot(sigma1,s1)\n",
    "\n",
    "print('sigma0= ',sigma0)\n",
    "print('sigma1=  ',sigma1)\n",
    "Sig=(3*sigma0+4*sigma1)/7\n",
    "print('sigma =', Sig)\n",
    "sigma_inv=la.inv(Sig)\n",
    "print('sigma^(-1) =',sigma_inv)\n",
    "\n"
   ]
  },
  {
   "cell_type": "code",
   "execution_count": null,
   "metadata": {},
   "outputs": [],
   "source": [
    "\"frontière de décision\""
   ]
  },
  {
   "cell_type": "code",
   "execution_count": null,
   "metadata": {},
   "outputs": [],
   "source": []
  },
  {
   "cell_type": "code",
   "execution_count": null,
   "metadata": {},
   "outputs": [],
   "source": []
  }
 ],
 "metadata": {
  "kernelspec": {
   "display_name": "Python 3",
   "language": "python",
   "name": "python3"
  },
  "language_info": {
   "codemirror_mode": {
    "name": "ipython",
    "version": 3
   },
   "file_extension": ".py",
   "mimetype": "text/x-python",
   "name": "python",
   "nbconvert_exporter": "python",
   "pygments_lexer": "ipython3",
   "version": "3.7.1"
  }
 },
 "nbformat": 4,
 "nbformat_minor": 2
}
