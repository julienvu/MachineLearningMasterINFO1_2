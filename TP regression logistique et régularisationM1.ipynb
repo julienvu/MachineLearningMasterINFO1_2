{
 "cells": [
  {
   "cell_type": "markdown",
   "metadata": {},
   "source": [
    "# TP - Régression et Régularisation\n",
    "Dans ce TP vous devrez implémenter la regression logistique (en partant du code de la régression linéaire) et vous l'appliquerez sur des données décrivant des voitures (`Auto2.csv`)"
   ]
  },
  {
   "cell_type": "markdown",
   "metadata": {},
   "source": [
    "### D'abord, chargeons les données\n",
    "\n",
    "Les données décrivent des voitures.\n",
    "On a des variables comme le poids de la voiture, son accelération, etc...\n",
    "et on cherche à prédire sa cylindrée, qui peut être 4 cylindres (classe 0) ou plus (classe 1)"
   ]
  },
  {
   "cell_type": "code",
   "execution_count": 1,
   "metadata": {},
   "outputs": [],
   "source": [
    "%matplotlib inline\n",
    "import numpy as np\n",
    "from scipy.stats import mode\n",
    "import matplotlib.pyplot as plt\n",
    "from sklearn.utils import shuffle\n",
    "import random"
   ]
  },
  {
   "cell_type": "markdown",
   "metadata": {},
   "source": [
    "Pour charger les données depuis un fichier csv, on utilise un module python qui s'appelle `pandas`."
   ]
  },
  {
   "cell_type": "code",
   "execution_count": 2,
   "metadata": {},
   "outputs": [
    {
     "data": {
      "text/html": [
       "<div>\n",
       "<style scoped>\n",
       "    .dataframe tbody tr th:only-of-type {\n",
       "        vertical-align: middle;\n",
       "    }\n",
       "\n",
       "    .dataframe tbody tr th {\n",
       "        vertical-align: top;\n",
       "    }\n",
       "\n",
       "    .dataframe thead th {\n",
       "        text-align: right;\n",
       "    }\n",
       "</style>\n",
       "<table border=\"1\" class=\"dataframe\">\n",
       "  <thead>\n",
       "    <tr style=\"text-align: right;\">\n",
       "      <th></th>\n",
       "      <th>mpg</th>\n",
       "      <th>cylinders</th>\n",
       "      <th>displacement</th>\n",
       "      <th>horsepower</th>\n",
       "      <th>weight</th>\n",
       "      <th>acceleration</th>\n",
       "      <th>year</th>\n",
       "    </tr>\n",
       "  </thead>\n",
       "  <tbody>\n",
       "    <tr>\n",
       "      <th>0</th>\n",
       "      <td>29.0</td>\n",
       "      <td>4</td>\n",
       "      <td>85.0</td>\n",
       "      <td>52.0</td>\n",
       "      <td>2035</td>\n",
       "      <td>22.2</td>\n",
       "      <td>76</td>\n",
       "    </tr>\n",
       "    <tr>\n",
       "      <th>1</th>\n",
       "      <td>29.9</td>\n",
       "      <td>4</td>\n",
       "      <td>98.0</td>\n",
       "      <td>65.0</td>\n",
       "      <td>2380</td>\n",
       "      <td>20.7</td>\n",
       "      <td>81</td>\n",
       "    </tr>\n",
       "    <tr>\n",
       "      <th>2</th>\n",
       "      <td>23.0</td>\n",
       "      <td>4</td>\n",
       "      <td>140.0</td>\n",
       "      <td>78.0</td>\n",
       "      <td>2592</td>\n",
       "      <td>18.5</td>\n",
       "      <td>75</td>\n",
       "    </tr>\n",
       "    <tr>\n",
       "      <th>3</th>\n",
       "      <td>27.2</td>\n",
       "      <td>4</td>\n",
       "      <td>141.0</td>\n",
       "      <td>71.0</td>\n",
       "      <td>3190</td>\n",
       "      <td>24.8</td>\n",
       "      <td>79</td>\n",
       "    </tr>\n",
       "    <tr>\n",
       "      <th>4</th>\n",
       "      <td>28.0</td>\n",
       "      <td>4</td>\n",
       "      <td>151.0</td>\n",
       "      <td>90.0</td>\n",
       "      <td>2678</td>\n",
       "      <td>16.5</td>\n",
       "      <td>80</td>\n",
       "    </tr>\n",
       "  </tbody>\n",
       "</table>\n",
       "</div>"
      ],
      "text/plain": [
       "    mpg  cylinders  displacement  horsepower  weight  acceleration  year\n",
       "0  29.0          4          85.0        52.0    2035          22.2    76\n",
       "1  29.9          4          98.0        65.0    2380          20.7    81\n",
       "2  23.0          4         140.0        78.0    2592          18.5    75\n",
       "3  27.2          4         141.0        71.0    3190          24.8    79\n",
       "4  28.0          4         151.0        90.0    2678          16.5    80"
      ]
     },
     "execution_count": 2,
     "metadata": {},
     "output_type": "execute_result"
    }
   ],
   "source": [
    "import pandas\n",
    "autos = pandas.read_csv( \"Auto2.csv\")\n",
    "autos.drop(labels=['name','origin'],axis=1,inplace=True)\n",
    "autos = autos[autos.cylinders != 3]\n",
    "autos = autos[autos.cylinders != 5]\n",
    "autos.head()"
   ]
  },
  {
   "cell_type": "markdown",
   "metadata": {},
   "source": [
    "maintenant, on converti ces données en tableaux numpy:\n",
    "* `X` sera le tableau de données à 5 variables\n",
    "* la cylindrée sera stockée dans `y`"
   ]
  },
  {
   "cell_type": "code",
   "execution_count": 3,
   "metadata": {},
   "outputs": [],
   "source": [
    "X = autos[['mpg','displacement','weight','acceleration','year']].values\n",
    "y = (autos[['cylinders']].values.squeeze() >= 6).astype(int)"
   ]
  },
  {
   "cell_type": "code",
   "execution_count": 4,
   "metadata": {},
   "outputs": [
    {
     "name": "stdout",
     "output_type": "stream",
     "text": [
      "X= [[  29.    85.  2035.    22.2   76. ]\n",
      " [  29.9   98.  2380.    20.7   81. ]\n",
      " [  23.   140.  2592.    18.5   75. ]\n",
      " ...\n",
      " [  28.   107.  2464.    15.5   76. ]\n",
      " [  20.5  231.  3425.    16.9   77. ]\n",
      " [  19.   120.  3270.    21.9   76. ]] \n",
      "y= [0 0 0 0 0 0 1 0 1 1 0 1 1 1 1 1 1 1 1 1]\n"
     ]
    }
   ],
   "source": [
    "print('X=',X,'\\ny=',y[:20])"
   ]
  },
  {
   "cell_type": "code",
   "execution_count": 5,
   "metadata": {},
   "outputs": [
    {
     "data": {
      "image/png": "[encoded data removed]",
      "text/plain": [
       "<Figure size 432x288 with 1 Axes>"
      ]
     },
     "metadata": {
      "needs_background": "light"
     },
     "output_type": "display_data"
    }
   ],
   "source": [
    "# Affichons les points de X, en utilisant seulement les 3ieme et 4ieme colonnes de X.\n",
    "plt.scatter(X[:,2],X[:,3],c=y)\n",
    "plt.xlabel('poids')\n",
    "plt.ylabel('acceleration');"
   ]
  },
  {
   "cell_type": "markdown",
   "metadata": {},
   "source": [
    "### Sujet du TP\n",
    "\n",
    "\n",
    "Avant tout, on va mélanger les données avec la commande `X,y = shuffle(X,y)`. Cette commande provient du module python `scikit-learn`\n",
    "\n",
    "#### Régression\n",
    "\n",
    "* Lancez la fonction `descente_grad_stochatstique_reg_lineaire` (ci-dessous en annexe) avec les bons paramètres (que vous trouverez par essai-erreur).  Vous lirez le code pour comprendre parfaitement ce qu'elle fait. Remarquez que les données ne sont pas normalisées, et ont des valeurs relativement grandes. Donc il est probable que seul un très petit pas d'apprentissage convienne ici.\n",
    "* Notre problème est un problème de classification, donc la régression linéaire n'est pas adaptée. Ce qu'on cherche à faire est plutot une régression logistique. Ecrivez la fonction `descente_grad_stochatstique_reg_logistique` en modifiant la fonction `descente_grad_stochatstique_reg_lineaire`, et lancez-la. Testez la regression logistique associée sur les données.\n",
    "* Ecrivez une fonction  `erreur_empirique(X,y,theta)` qui calcule l'erreur quadratique empirique de la regression logistique sur l'ensemble des données `X,y`\n",
    "* Ecrivez une fonction  `log_vraissemblance_empirique(X,y,theta)` qui calcule le log de la vraissemblance empirique de la regression logistique sur l'ensemble des données `X,y`\n",
    "\n",
    "#### Régularisation\n",
    "\n",
    "* Ajoutez une régularisation l1 à la descente de gradient. Pour rappel, la norme l1 est la somme des valeurs absolues des theta_j. Donc dans la formule du gradient, il faut ajouter lambda*signe(theta_j) pour chaque coordonnée j (ce qui correspond à la dérivée de la norme l1).\n",
    "* Pour différentes valeurs du paramètre lambda, relancez la régression logistique. Affichez en fonction de lambda le taux d'erreur en classification, et le nombre de theta_j non-nuls (en réalité, les theta_j ne sont jamais exactement égaux à zero. Donc on choisira un petit epsilon, et on comptera le nombre de theta_j donc la valeur absolue est plus grande que epsilon).\n",
    "\n"
   ]
  },
  {
   "cell_type": "markdown",
   "metadata": {},
   "source": [
    "### Annexes\n",
    "\n",
    "Fonctions qui seront utiles pour faire le TP"
   ]
  },
  {
   "cell_type": "code",
   "execution_count": 8,
   "metadata": {},
   "outputs": [],
   "source": [
    "# Pour faire la descente de gradient, on a besoin de la fonction g(z)=1/(1+exp(-z))\n",
    "# mais cette fonction est \"numeriquement instable\", car l'exponentiel peut générer des\n",
    "# valeurs hors des limites des floats.\n",
    "# Donc on utilise la version suivante de g(), équivalente mais stable\n",
    "\n",
    "def g(z):\n",
    "    \"Numerically stable sigmoid function.\"\n",
    "    if z >= 0:\n",
    "        ez = np.exp(-z)\n",
    "        return 1 / (1 + ez)\n",
    "    else:\n",
    "        # if x is less than zero then z will be small, denom can't be\n",
    "        # zero because it's 1+z.\n",
    "        ez = np.exp(z)\n",
    "        return ez / (1 + ez)"
   ]
  },
  {
   "cell_type": "code",
   "execution_count": 9,
   "metadata": {},
   "outputs": [],
   "source": [
    "# Voici un algorithme de base de descente de gradient pour une régression lineaire appliqué aux données.\n",
    "# NB: pour simplifier, le modèle prédit n'a pas de constante theta0 comme vu en cours.\n",
    "\n",
    "def descente_grad_stochatstique_reg_lineaire(X,y,alpha):\n",
    "\n",
    "    n,d = X.shape\n",
    "    theta = np.zeros(d)\n",
    "\n",
    "    for t in range(1000):\n",
    "\n",
    "        i = random.randint(0,n-1)\n",
    "        xi = X[i]\n",
    "        yi = y[i]\n",
    "        h = np.dot( theta , xi )\n",
    "\n",
    "        theta -= alpha*xi*(h-yi)\n",
    "\n",
    "    return theta"
   ]
  },
  {
   "cell_type": "code",
   "execution_count": 17,
   "metadata": {},
   "outputs": [],
   "source": [
    "def descente_grad_stochatstique_reg_logistique(X,y,alpha):\n",
    "\n",
    "    n,d = X.shape\n",
    "    theta = np.zeros(d)\n",
    "\n",
    "    for t in range(1000):\n",
    "\n",
    "        i = random.randint(0,n-1)\n",
    "        xi = X[i]\n",
    "        yi = y[i]\n",
    "        h = 1/(1+np.exp(-xi))\n",
    "\n",
    "        theta -= alpha*xi*(h-yi)\n",
    "\n",
    "    return theta"
   ]
  },
  {
   "cell_type": "code",
   "execution_count": 18,
   "metadata": {},
   "outputs": [
    {
     "name": "stdout",
     "output_type": "stream",
     "text": [
      "[nan nan nan nan nan]\n",
      "[  -14.71129348   -53.669      -1130.674         -8.25935645\n",
      "   -38.088     ]\n"
     ]
    },
    {
     "name": "stderr",
     "output_type": "stream",
     "text": [
      "/Users/julien/anaconda3/lib/python3.7/site-packages/ipykernel_launcher.py:16: RuntimeWarning: overflow encountered in multiply\n",
      "  app.launch_new_instance()\n",
      "/Users/julien/anaconda3/lib/python3.7/site-packages/ipykernel_launcher.py:16: RuntimeWarning: invalid value encountered in subtract\n",
      "  app.launch_new_instance()\n"
     ]
    }
   ],
   "source": [
    "alpha1=0.001\n",
    "print(descente_grad_stochatstique_reg_lineaire(X,y,alpha1))\n",
    "print(descente_grad_stochatstique_reg_logistique(X,y,alpha1))"
   ]
  },
  {
   "cell_type": "code",
   "execution_count": 30,
   "metadata": {},
   "outputs": [],
   "source": [
    "def erreur_empirique(X,y,theta):\n",
    "    \n",
    "    for t in range (len(y)):\n",
    "        somme=np.sum((g(X[:t])-y[t])**2)\n",
    "    \n",
    "    return somme"
   ]
  },
  {
   "cell_type": "code",
   "execution_count": 31,
   "metadata": {},
   "outputs": [
    {
     "name": "stderr",
     "output_type": "stream",
     "text": [
      "/Users/julien/anaconda3/lib/python3.7/site-packages/ipykernel_launcher.py:8: DeprecationWarning: The truth value of an empty array is ambiguous. Returning False, but in future this will result in an error. Use `array.size > 0` to check that an array is not empty.\n",
      "  \n"
     ]
    },
    {
     "ename": "ValueError",
     "evalue": "The truth value of an array with more than one element is ambiguous. Use a.any() or a.all()",
     "output_type": "error",
     "traceback": [
      "\u001b[0;31m---------------------------------------------------------------------------\u001b[0m",
      "\u001b[0;31mValueError\u001b[0m                                Traceback (most recent call last)",
      "\u001b[0;32m<ipython-input-31-0fae67cd386d>\u001b[0m in \u001b[0;36m<module>\u001b[0;34m\u001b[0m\n\u001b[0;32m----> 1\u001b[0;31m \u001b[0mprint\u001b[0m\u001b[0;34m(\u001b[0m\u001b[0merreur_empirique\u001b[0m\u001b[0;34m(\u001b[0m\u001b[0mX\u001b[0m\u001b[0;34m,\u001b[0m\u001b[0my\u001b[0m\u001b[0;34m,\u001b[0m\u001b[0mdescente_grad_stochatstique_reg_logistique\u001b[0m\u001b[0;34m(\u001b[0m\u001b[0mX\u001b[0m\u001b[0;34m,\u001b[0m\u001b[0my\u001b[0m\u001b[0;34m,\u001b[0m\u001b[0malpha1\u001b[0m\u001b[0;34m)\u001b[0m\u001b[0;34m)\u001b[0m\u001b[0;34m)\u001b[0m\u001b[0;34m\u001b[0m\u001b[0;34m\u001b[0m\u001b[0m\n\u001b[0m",
      "\u001b[0;32m<ipython-input-30-e141fac11635>\u001b[0m in \u001b[0;36merreur_empirique\u001b[0;34m(X, y, theta)\u001b[0m\n\u001b[1;32m      2\u001b[0m \u001b[0;34m\u001b[0m\u001b[0m\n\u001b[1;32m      3\u001b[0m     \u001b[0;32mfor\u001b[0m \u001b[0mt\u001b[0m \u001b[0;32min\u001b[0m \u001b[0mrange\u001b[0m \u001b[0;34m(\u001b[0m\u001b[0mlen\u001b[0m\u001b[0;34m(\u001b[0m\u001b[0my\u001b[0m\u001b[0;34m)\u001b[0m\u001b[0;34m)\u001b[0m\u001b[0;34m:\u001b[0m\u001b[0;34m\u001b[0m\u001b[0;34m\u001b[0m\u001b[0m\n\u001b[0;32m----> 4\u001b[0;31m         \u001b[0msomme\u001b[0m\u001b[0;34m=\u001b[0m\u001b[0mnp\u001b[0m\u001b[0;34m.\u001b[0m\u001b[0msum\u001b[0m\u001b[0;34m(\u001b[0m\u001b[0;34m(\u001b[0m\u001b[0mg\u001b[0m\u001b[0;34m(\u001b[0m\u001b[0mX\u001b[0m\u001b[0;34m[\u001b[0m\u001b[0;34m:\u001b[0m\u001b[0mt\u001b[0m\u001b[0;34m]\u001b[0m\u001b[0;34m)\u001b[0m\u001b[0;34m-\u001b[0m\u001b[0my\u001b[0m\u001b[0;34m[\u001b[0m\u001b[0mt\u001b[0m\u001b[0;34m]\u001b[0m\u001b[0;34m)\u001b[0m\u001b[0;34m**\u001b[0m\u001b[0;36m2\u001b[0m\u001b[0;34m)\u001b[0m\u001b[0;34m\u001b[0m\u001b[0;34m\u001b[0m\u001b[0m\n\u001b[0m\u001b[1;32m      5\u001b[0m \u001b[0;34m\u001b[0m\u001b[0m\n\u001b[1;32m      6\u001b[0m     \u001b[0;32mreturn\u001b[0m \u001b[0msomme\u001b[0m\u001b[0;34m\u001b[0m\u001b[0;34m\u001b[0m\u001b[0m\n",
      "\u001b[0;32m<ipython-input-8-f3c5c5583745>\u001b[0m in \u001b[0;36mg\u001b[0;34m(z)\u001b[0m\n\u001b[1;32m      6\u001b[0m \u001b[0;32mdef\u001b[0m \u001b[0mg\u001b[0m\u001b[0;34m(\u001b[0m\u001b[0mz\u001b[0m\u001b[0;34m)\u001b[0m\u001b[0;34m:\u001b[0m\u001b[0;34m\u001b[0m\u001b[0;34m\u001b[0m\u001b[0m\n\u001b[1;32m      7\u001b[0m     \u001b[0;34m\"Numerically stable sigmoid function.\"\u001b[0m\u001b[0;34m\u001b[0m\u001b[0;34m\u001b[0m\u001b[0m\n\u001b[0;32m----> 8\u001b[0;31m     \u001b[0;32mif\u001b[0m \u001b[0mz\u001b[0m \u001b[0;34m>=\u001b[0m \u001b[0;36m0\u001b[0m\u001b[0;34m:\u001b[0m\u001b[0;34m\u001b[0m\u001b[0;34m\u001b[0m\u001b[0m\n\u001b[0m\u001b[1;32m      9\u001b[0m         \u001b[0mez\u001b[0m \u001b[0;34m=\u001b[0m \u001b[0mnp\u001b[0m\u001b[0;34m.\u001b[0m\u001b[0mexp\u001b[0m\u001b[0;34m(\u001b[0m\u001b[0;34m-\u001b[0m\u001b[0mz\u001b[0m\u001b[0;34m)\u001b[0m\u001b[0;34m\u001b[0m\u001b[0;34m\u001b[0m\u001b[0m\n\u001b[1;32m     10\u001b[0m         \u001b[0;32mreturn\u001b[0m \u001b[0;36m1\u001b[0m \u001b[0;34m/\u001b[0m \u001b[0;34m(\u001b[0m\u001b[0;36m1\u001b[0m \u001b[0;34m+\u001b[0m \u001b[0mez\u001b[0m\u001b[0;34m)\u001b[0m\u001b[0;34m\u001b[0m\u001b[0;34m\u001b[0m\u001b[0m\n",
      "\u001b[0;31mValueError\u001b[0m: The truth value of an array with more than one element is ambiguous. Use a.any() or a.all()"
     ]
    }
   ],
   "source": [
    "print(erreur_empirique(X,y,descente_grad_stochatstique_reg_logistique(X,y,alpha1)))"
   ]
  },
  {
   "cell_type": "code",
   "execution_count": null,
   "metadata": {},
   "outputs": [],
   "source": []
  }
 ],
 "metadata": {
  "kernelspec": {
   "display_name": "Python 3",
   "language": "python",
   "name": "python3"
  },
  "language_info": {
   "codemirror_mode": {
    "name": "ipython",
    "version": 3
   },
   "file_extension": ".py",
   "mimetype": "text/x-python",
   "name": "python",
   "nbconvert_exporter": "python",
   "pygments_lexer": "ipython3",
   "version": "3.7.1"
  }
 },
 "nbformat": 4,
 "nbformat_minor": 2
}
